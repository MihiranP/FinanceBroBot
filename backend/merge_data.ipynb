{
 "cells": [
  {
   "cell_type": "code",
   "execution_count": 1,
   "metadata": {},
   "outputs": [],
   "source": [
    "HF_TOKEN = ''"
   ]
  },
  {
   "cell_type": "code",
   "execution_count": 2,
   "metadata": {},
   "outputs": [
    {
     "name": "stderr",
     "output_type": "stream",
     "text": [
      "Repo card metadata block was not found. Setting CardData to empty.\n"
     ]
    }
   ],
   "source": [
    "from datasets import load_dataset, concatenate_datasets\n",
    "\n",
    "ds1 = load_dataset(\"gbharti/finance-alpaca\")['train']\n",
    "ds2 = load_dataset(\"Aletheia-ng/personal_finance_v0.2\")['train']\n",
    "ds3 = load_dataset(\"bilalRahib/fiqa-personal-finance-dataset\")['train']"
   ]
  },
  {
   "cell_type": "code",
   "execution_count": 3,
   "metadata": {},
   "outputs": [
    {
     "name": "stdout",
     "output_type": "stream",
     "text": [
      "['text', 'instruction', 'input', 'output']\n",
      "['context', 'chosen', 'rejected']\n",
      "['input', 'output']\n"
     ]
    }
   ],
   "source": [
    "print(ds1.column_names)\n",
    "print(ds2.column_names)\n",
    "print(ds3.column_names)"
   ]
  },
  {
   "cell_type": "code",
   "execution_count": 4,
   "metadata": {},
   "outputs": [
    {
     "data": {
      "application/vnd.jupyter.widget-view+json": {
       "model_id": "48a3893e0f44466d9d9f7f99fd8738eb",
       "version_major": 2,
       "version_minor": 0
      },
      "text/plain": [
       "Creating CSV from Arrow format:   0%|          | 0/128 [00:00<?, ?ba/s]"
      ]
     },
     "metadata": {},
     "output_type": "display_data"
    },
    {
     "data": {
      "text/plain": [
       "124606621"
      ]
     },
     "execution_count": 4,
     "metadata": {},
     "output_type": "execute_result"
    }
   ],
   "source": [
    "formatter = 'Q: {question}\\n\\nA: {answer}'\n",
    "\n",
    "ds1_formatted = ds1.map(lambda x: {'formatted_data': formatter.format(question=x['instruction'], answer=x['output'])})\n",
    "ds2_formatted = ds2.map(lambda x: {'formatted_data': formatter.format(question=x['context'], answer=x['chosen'])})\n",
    "ds3_formatted = ds3.map(lambda x: {'formatted_data': formatter.format(question=x['input'], answer=x['output'])})\n",
    "\n",
    "merged_ds = concatenate_datasets([ds1_formatted, ds2_formatted, ds3_formatted])\n",
    "merged_ds = merged_ds.remove_columns(['text', 'instruction', 'input', 'output', 'context', 'chosen', 'rejected'])\n",
    "\n",
    "merged_ds.to_csv('merged_dataset.csv', index=False)"
   ]
  }
 ],
 "metadata": {
  "kernelspec": {
   "display_name": "venv",
   "language": "python",
   "name": "python3"
  },
  "language_info": {
   "codemirror_mode": {
    "name": "ipython",
    "version": 3
   },
   "file_extension": ".py",
   "mimetype": "text/x-python",
   "name": "python",
   "nbconvert_exporter": "python",
   "pygments_lexer": "ipython3",
   "version": "3.12.4"
  }
 },
 "nbformat": 4,
 "nbformat_minor": 2
}
