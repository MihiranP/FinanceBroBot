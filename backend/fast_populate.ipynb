{
 "cells": [
  {
   "cell_type": "code",
   "execution_count": 1,
   "metadata": {},
   "outputs": [],
   "source": [
    "URL = 'http://localhost:8000/rag/embed'\n",
    "PATH = './merged_dataset.csv'\n",
    "\n",
    "\n",
    "import nest_asyncio\n",
    "nest_asyncio.apply()"
   ]
  },
  {
   "cell_type": "code",
   "execution_count": null,
   "metadata": {},
   "outputs": [],
   "source": [
    "import aiohttp\n",
    "import asyncio\n",
    "\n",
    "async def embed_single_df(session, df_path):\n",
    "    payload = {\"data_path\": df_path}\n",
    "    async with session.post(URL, json=payload, timeout=1000000000000) as response:\n",
    "        return await response.json()\n",
    "\n",
    "async def embed_all_dfs():\n",
    "    async with aiohttp.ClientSession() as session:\n",
    "        tasks = []\n",
    "        for i in range(10):\n",
    "            df_path = f\"./dfs/df_{i}.csv\"\n",
    "            tasks.append(embed_single_df(session, df_path))\n",
    "        \n",
    "        results = await asyncio.gather(*tasks)\n",
    "        return results\n",
    "\n",
    "results = await embed_all_dfs()"
   ]
  }
 ],
 "metadata": {
  "kernelspec": {
   "display_name": "venv",
   "language": "python",
   "name": "python3"
  },
  "language_info": {
   "codemirror_mode": {
    "name": "ipython",
    "version": 3
   },
   "file_extension": ".py",
   "mimetype": "text/x-python",
   "name": "python",
   "nbconvert_exporter": "python",
   "pygments_lexer": "ipython3",
   "version": "3.12.4"
  }
 },
 "nbformat": 4,
 "nbformat_minor": 2
}
